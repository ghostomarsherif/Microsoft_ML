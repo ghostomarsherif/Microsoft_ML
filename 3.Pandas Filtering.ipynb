{
  "nbformat": 4,
  "nbformat_minor": 0,
  "metadata": {
    "colab": {
      "provenance": []
    },
    "kernelspec": {
      "name": "python3",
      "display_name": "Python 3"
    },
    "language_info": {
      "name": "python"
    }
  },
  "cells": [
    {
      "cell_type": "code",
      "source": [
        "import pandas as pd\n",
        "import numpy as np\n",
        "\n",
        "df = pd.read_csv('/content/covid_19_clean_complete.csv')\n",
        "\n",
        "print(df.head())\n",
        "\n",
        "print(df.info())\n",
        "\n",
        "print(df.isnull().sum())\n",
        "\n",
        "print(df.describe())\n",
        "\n",
        "df['Province/State'] = df['Province/State'].fillna('Unknown')\n",
        "\n",
        "print(df.isnull().sum())\n",
        "\n",
        "df.to_csv('cleaned_covid_data.csv', index=False)\n"
      ],
      "metadata": {
        "id": "T5hMsS9l9tbX",
        "colab": {
          "base_uri": "https://localhost:8080/"
        },
        "outputId": "2e9fc4ba-ad7d-48a8-8649-4d7bf9530674"
      },
      "execution_count": 4,
      "outputs": [
        {
          "output_type": "stream",
          "name": "stdout",
          "text": [
            "  Province/State Country/Region       Lat       Long        Date  Confirmed  \\\n",
            "0            NaN    Afghanistan  33.93911  67.709953  2020-01-22          0   \n",
            "1            NaN        Albania  41.15330  20.168300  2020-01-22          0   \n",
            "2            NaN        Algeria  28.03390   1.659600  2020-01-22          0   \n",
            "3            NaN        Andorra  42.50630   1.521800  2020-01-22          0   \n",
            "4            NaN         Angola -11.20270  17.873900  2020-01-22          0   \n",
            "\n",
            "   Deaths  Recovered  Active             WHO Region  \n",
            "0       0          0       0  Eastern Mediterranean  \n",
            "1       0          0       0                 Europe  \n",
            "2       0          0       0                 Africa  \n",
            "3       0          0       0                 Europe  \n",
            "4       0          0       0                 Africa  \n",
            "<class 'pandas.core.frame.DataFrame'>\n",
            "RangeIndex: 49068 entries, 0 to 49067\n",
            "Data columns (total 10 columns):\n",
            " #   Column          Non-Null Count  Dtype  \n",
            "---  ------          --------------  -----  \n",
            " 0   Province/State  14664 non-null  object \n",
            " 1   Country/Region  49068 non-null  object \n",
            " 2   Lat             49068 non-null  float64\n",
            " 3   Long            49068 non-null  float64\n",
            " 4   Date            49068 non-null  object \n",
            " 5   Confirmed       49068 non-null  int64  \n",
            " 6   Deaths          49068 non-null  int64  \n",
            " 7   Recovered       49068 non-null  int64  \n",
            " 8   Active          49068 non-null  int64  \n",
            " 9   WHO Region      49068 non-null  object \n",
            "dtypes: float64(2), int64(4), object(4)\n",
            "memory usage: 3.7+ MB\n",
            "None\n",
            "Province/State    34404\n",
            "Country/Region        0\n",
            "Lat                   0\n",
            "Long                  0\n",
            "Date                  0\n",
            "Confirmed             0\n",
            "Deaths                0\n",
            "Recovered             0\n",
            "Active                0\n",
            "WHO Region            0\n",
            "dtype: int64\n",
            "                Lat          Long     Confirmed         Deaths     Recovered  \\\n",
            "count  49068.000000  49068.000000  4.906800e+04   49068.000000  4.906800e+04   \n",
            "mean      21.433730     23.528236  1.688490e+04     884.179160  7.915713e+03   \n",
            "std       24.950320     70.442740  1.273002e+05    6313.584411  5.480092e+04   \n",
            "min      -51.796300   -135.000000  0.000000e+00       0.000000  0.000000e+00   \n",
            "25%        7.873054    -15.310100  4.000000e+00       0.000000  0.000000e+00   \n",
            "50%       23.634500     21.745300  1.680000e+02       2.000000  2.900000e+01   \n",
            "75%       41.204380     80.771797  1.518250e+03      30.000000  6.660000e+02   \n",
            "max       71.706900    178.065000  4.290259e+06  148011.000000  1.846641e+06   \n",
            "\n",
            "             Active  \n",
            "count  4.906800e+04  \n",
            "mean   8.085012e+03  \n",
            "std    7.625890e+04  \n",
            "min   -1.400000e+01  \n",
            "25%    0.000000e+00  \n",
            "50%    2.600000e+01  \n",
            "75%    6.060000e+02  \n",
            "max    2.816444e+06  \n",
            "Province/State    0\n",
            "Country/Region    0\n",
            "Lat               0\n",
            "Long              0\n",
            "Date              0\n",
            "Confirmed         0\n",
            "Deaths            0\n",
            "Recovered         0\n",
            "Active            0\n",
            "WHO Region        0\n",
            "dtype: int64\n"
          ]
        }
      ]
    },
    {
      "cell_type": "code",
      "source": [
        "\n"
      ],
      "metadata": {
        "id": "zRx92Vj2956i"
      },
      "execution_count": 2,
      "outputs": []
    },
    {
      "cell_type": "code",
      "source": [],
      "metadata": {
        "id": "k5yiy4kHcoZ3"
      },
      "execution_count": null,
      "outputs": []
    }
  ]
}